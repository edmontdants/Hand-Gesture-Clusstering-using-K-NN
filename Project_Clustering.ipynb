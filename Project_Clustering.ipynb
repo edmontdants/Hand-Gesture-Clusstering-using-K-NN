{
 "cells": [
  {
   "cell_type": "code",
   "execution_count": 1,
   "metadata": {},
   "outputs": [],
   "source": [
    "from sklearn.cluster import KMeans\n",
    "import pandas as pd\n",
    "from sklearn.preprocessing import MinMaxScaler\n",
    "from matplotlib import pyplot as plt\n",
    "from sklearn.preprocessing import scale\n",
    "import numpy as np\n",
    "from imutils import paths\n",
    "from PIL import Image\n",
    "%matplotlib inline\n",
    "import argparse\n",
    "import os\n",
    "import seaborn as sns"
   ]
  },
  {
   "cell_type": "code",
   "execution_count": 2,
   "metadata": {},
   "outputs": [
    {
     "name": "stdout",
     "output_type": "stream",
     "text": [
      "       0\n",
      "0    144\n",
      "1     90\n",
      "2     91\n",
      "3     90\n",
      "4     92\n",
      "5     91\n",
      "6     93\n",
      "7     91\n",
      "8     93\n",
      "9     91\n",
      "10    88\n",
      "11    89\n",
      "12   146\n",
      "13    87\n",
      "14   123\n",
      "15    99\n",
      "16   101\n",
      "17    93\n",
      "18   142\n",
      "19   147\n",
      "20    94\n",
      "21    93\n",
      "22    88\n",
      "23    91\n",
      "24    91\n",
      "25   101\n",
      "26    92\n",
      "27   100\n",
      "28    99\n",
      "29    97\n",
      "..   ...\n",
      "220  149\n",
      "221  149\n",
      "222   84\n",
      "223  147\n",
      "224  149\n",
      "225  151\n",
      "226  149\n",
      "227   83\n",
      "228   96\n",
      "229   97\n",
      "230   99\n",
      "231  100\n",
      "232   99\n",
      "233   83\n",
      "234   93\n",
      "235   94\n",
      "236  118\n",
      "237   94\n",
      "238  137\n",
      "239  140\n",
      "240  129\n",
      "241  140\n",
      "242   96\n",
      "243   95\n",
      "244   83\n",
      "245   94\n",
      "246   83\n",
      "247   84\n",
      "248   83\n",
      "249   96\n",
      "\n",
      "[250 rows x 1 columns]       0\n",
      "0    64\n",
      "1    51\n",
      "2    51\n",
      "3    51\n",
      "4    51\n",
      "5    51\n",
      "6    48\n",
      "7    52\n",
      "8    52\n",
      "9    49\n",
      "10   50\n",
      "11   54\n",
      "12   66\n",
      "13   50\n",
      "14   69\n",
      "15   57\n",
      "16   59\n",
      "17   52\n",
      "18   65\n",
      "19   65\n",
      "20   53\n",
      "21   54\n",
      "22   55\n",
      "23   54\n",
      "24   53\n",
      "25   57\n",
      "26   56\n",
      "27   56\n",
      "28   57\n",
      "29   57\n",
      "..   ..\n",
      "220  68\n",
      "221  69\n",
      "222  37\n",
      "223  68\n",
      "224  68\n",
      "225  70\n",
      "226  68\n",
      "227  38\n",
      "228  50\n",
      "229  41\n",
      "230  40\n",
      "231  39\n",
      "232  40\n",
      "233  37\n",
      "234  45\n",
      "235  47\n",
      "236  51\n",
      "237  51\n",
      "238  60\n",
      "239  66\n",
      "240  51\n",
      "241  62\n",
      "242  43\n",
      "243  39\n",
      "244  37\n",
      "245  50\n",
      "246  37\n",
      "247  38\n",
      "248  37\n",
      "249  42\n",
      "\n",
      "[250 rows x 1 columns]\n"
     ]
    }
   ],
   "source": [
    "imagePaths = paths.list_images('Dataset')\n",
    "def extract_color_stats_mean(image):\n",
    "    (R,G,B) = image.split()\n",
    "    features_mean = int(np.mean(B))\n",
    "    return features_mean\n",
    "def extract_color_stats_std(image):\n",
    "    (R,G,B) = image.split()\n",
    "    features_std = int(np.std(R))\n",
    "    return features_std\n",
    "y= np.arange(1,251)\n",
    "data_mean = []\n",
    "data_std = []\n",
    "for imagePath in imagePaths:\n",
    "    image= Image.open(imagePath)\n",
    "    features_mean = extract_color_stats_mean(image)\n",
    "    features_std = extract_color_stats_std(image)\n",
    "    data_mean.append(features_mean)\n",
    "    data_std.append(features_std)\n",
    "data_mean = pd.DataFrame(data_mean)\n",
    "data_std = pd.DataFrame(data_std)\n",
    "\n",
    "print(data_mean,data_std)"
   ]
  },
  {
   "cell_type": "code",
   "execution_count": 4,
   "metadata": {},
   "outputs": [
    {
     "data": {
      "text/plain": [
       "<matplotlib.collections.PathCollection at 0x1e5e428b358>"
      ]
     },
     "execution_count": 4,
     "metadata": {},
     "output_type": "execute_result"
    },
    {
     "data": {
      "image/png": "[encoded data removed]",
      "text/plain": [
       "<Figure size 432x288 with 1 Axes>"
      ]
     },
     "metadata": {
      "needs_background": "light"
     },
     "output_type": "display_data"
    }
   ],
   "source": [
    "plt.scatter(data_std,data_mean)"
   ]
  },
  {
   "cell_type": "code",
   "execution_count": 5,
   "metadata": {},
   "outputs": [
    {
     "name": "stdout",
     "output_type": "stream",
     "text": [
      "[[ 89.85333333]\n",
      " [151.08955224]\n",
      " [139.2       ]\n",
      " [112.875     ]\n",
      " [101.31914894]]\n"
     ]
    },
    {
     "data": {
      "text/plain": [
       "array([4, 2, 2, 2, 2, 2, 2, 2, 2, 2, 2, 2, 1, 2, 0, 3, 3, 2, 4, 1, 2, 2,\n",
       "       2, 2, 2, 3, 2, 3, 3, 3, 1, 3, 2, 2, 2, 2, 2, 2, 2, 2, 2, 2, 1, 2,\n",
       "       2, 2, 3, 2, 2, 1, 1, 1, 1, 1, 1, 1, 1, 4, 1, 1, 1, 4, 1, 1, 1, 1,\n",
       "       1, 3, 3, 2, 3, 3, 4, 3, 3, 3, 3, 1, 4, 3, 3, 3, 3, 1, 1, 1, 4, 4,\n",
       "       4, 4, 4, 4, 4, 4, 1, 4, 1, 4, 1, 1, 4, 4, 1, 1, 4, 1, 4, 4, 4, 4,\n",
       "       4, 4, 4, 1, 1, 1, 1, 1, 4, 1, 1, 4, 4, 4, 3, 3, 2, 3, 1, 1, 2, 1,\n",
       "       2, 4, 4, 4, 4, 4, 1, 1, 2, 2, 2, 2, 4, 1, 4, 1, 4, 1, 3, 2, 2, 0,\n",
       "       2, 2, 2, 2, 2, 2, 2, 3, 2, 2, 2, 2, 2, 0, 0, 0, 2, 2, 0, 2, 0, 2,\n",
       "       0, 3, 3, 0, 3, 0, 3, 3, 0, 0, 0, 3, 3, 3, 3, 3, 3, 3, 3, 3, 3, 0,\n",
       "       2, 0, 2, 1, 1, 1, 1, 1, 1, 1, 1, 1, 1, 2, 1, 1, 1, 1, 1, 1, 1, 1,\n",
       "       1, 1, 2, 1, 1, 1, 1, 2, 3, 3, 3, 3, 3, 2, 2, 2, 0, 2, 4, 4, 4, 4,\n",
       "       3, 2, 2, 2, 2, 2, 2, 3])"
      ]
     },
     "execution_count": 5,
     "metadata": {},
     "output_type": "execute_result"
    }
   ],
   "source": [
    "# create kmeans object\n",
    "kmeans = KMeans(n_clusters=5,max_iter= 500)\n",
    "# fit kmeans object to data\n",
    "kmeans.fit(data_mean,data_std)\n",
    "# print location of clusters learned by kmeans object\n",
    "print(kmeans.cluster_centers_)\n",
    "# save new clusters for chart\n",
    "y_km = kmeans.fit_predict(data_mean,data_std)\n",
    "y_km"
   ]
  },
  {
   "cell_type": "code",
   "execution_count": 6,
   "metadata": {},
   "outputs": [
    {
     "name": "stderr",
     "output_type": "stream",
     "text": [
      "C:\\Users\\Erizka Banuwati C\\Anaconda3\\lib\\site-packages\\ipykernel_launcher.py:4: MatplotlibDeprecationWarning: Adding an axes using the same arguments as a previous axes currently reuses the earlier instance.  In a future version, a new instance will always be created and returned.  Meanwhile, this warning can be suppressed, and the future behavior ensured, by passing a unique label to each axes instance.\n",
      "  after removing the cwd from sys.path.\n"
     ]
    },
    {
     "data": {
      "image/png": "[encoded data removed]",
      "text/plain": [
       "<Figure size 432x288 with 1 Axes>"
      ]
     },
     "metadata": {
      "needs_background": "light"
     },
     "output_type": "display_data"
    }
   ],
   "source": [
    "plt.ylabel(\"Data Mean\")\n",
    "plt.xlabel(\"Data Standart Deviasi\")\n",
    "plt.title (\"Clustering dengan K Means\")\n",
    "ax = plt.subplot(111)\n",
    "ax.scatter(data_std[y_km ==0], data_mean[y_km == 0], s=50, c='red', label= 'Kelas 0')\n",
    "ax.scatter(data_std[y_km ==1], data_mean[y_km == 1], s=50, c='black', label= 'Kelas 1')\n",
    "ax.scatter(data_std[y_km ==2], data_mean[y_km == 2], s=50, c='blue', label= 'Kelas 2')\n",
    "ax.scatter(data_std[y_km ==3], data_mean[y_km == 3], s=50, c='cyan', label= 'Kelas 3')\n",
    "ax.scatter(data_std[y_km ==4], data_mean[y_km == 4], s=50, c='orange', label= 'Kelas 4')\n",
    "ax.legend()\n",
    "plt.show()"
   ]
  },
  {
   "cell_type": "code",
   "execution_count": null,
   "metadata": {},
   "outputs": [],
   "source": []
  }
 ],
 "metadata": {
  "kernelspec": {
   "display_name": "Python 3",
   "language": "python",
   "name": "python3"
  },
  "language_info": {
   "codemirror_mode": {
    "name": "ipython",
    "version": 3
   },
   "file_extension": ".py",
   "mimetype": "text/x-python",
   "name": "python",
   "nbconvert_exporter": "python",
   "pygments_lexer": "ipython3",
   "version": "3.7.3"
  }
 },
 "nbformat": 4,
 "nbformat_minor": 2
}
